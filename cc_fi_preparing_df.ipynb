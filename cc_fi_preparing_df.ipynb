{
 "cells": [
  {
   "cell_type": "markdown",
   "metadata": {},
   "source": [
    "### Objective\n",
    "### This file treats the provided dataset.\n",
    "### Missing values and categorical values are handled.\n",
    "### Two datframes result and saved in memory."
   ]
  },
  {
   "cell_type": "code",
   "execution_count": 3,
   "metadata": {},
   "outputs": [
    {
     "name": "stdout",
     "output_type": "stream",
     "text": [
      "importing Jupyter notebook from cc_fi_initializing_variables.ipynb\n"
     ]
    }
   ],
   "source": [
    "import pandas as pd\n",
    "#pd.pandas.set_option('display.max_columns', None)\n",
    "#pd.set_option('display.max_rows', None)\n",
    "\n",
    "pd.set_option('display.max_columns', None)\n",
    "pd.set_option('display.width', 1000)\n",
    "\n",
    "import numpy as np\n",
    "\n",
    "#for category_encoders: on a terminal\n",
    "#pip install https://github.com/scikit-learn/scikit-learn/archive/master.zip\n",
    "import category_encoders as ce\n",
    "#! pip install --upgrade category_encoders\n",
    "\n",
    "#import it from the notebook\n",
    "import import_ipynb\n",
    "\n",
    "from cc_fi_initializing_variables import *\n",
    "#import cc_fi_initializing_variables\n",
    "#pip install import-ipynb"
   ]
  },
  {
   "cell_type": "code",
   "execution_count": null,
   "metadata": {},
   "outputs": [],
   "source": []
  },
  {
   "cell_type": "code",
   "execution_count": 4,
   "metadata": {},
   "outputs": [],
   "source": [
    "#we read the data file named vehicles from the folder named data\n",
    "#and store it in datframe named df\n",
    "df_1=pd.read_csv('data/vehicles.csv')"
   ]
  },
  {
   "cell_type": "code",
   "execution_count": 5,
   "metadata": {},
   "outputs": [
    {
     "data": {
      "text/plain": [
       "(426880, 18)"
      ]
     },
     "execution_count": 5,
     "metadata": {},
     "output_type": "execute_result"
    }
   ],
   "source": [
    "#dimension of the dataframe\n",
    "df_1.shape"
   ]
  },
  {
   "cell_type": "code",
   "execution_count": null,
   "metadata": {},
   "outputs": [],
   "source": []
  },
  {
   "cell_type": "code",
   "execution_count": 6,
   "metadata": {
    "scrolled": false
   },
   "outputs": [
    {
     "data": {
      "text/html": [
       "<div>\n",
       "<style scoped>\n",
       "    .dataframe tbody tr th:only-of-type {\n",
       "        vertical-align: middle;\n",
       "    }\n",
       "\n",
       "    .dataframe tbody tr th {\n",
       "        vertical-align: top;\n",
       "    }\n",
       "\n",
       "    .dataframe thead th {\n",
       "        text-align: right;\n",
       "    }\n",
       "</style>\n",
       "<table border=\"1\" class=\"dataframe\">\n",
       "  <thead>\n",
       "    <tr style=\"text-align: right;\">\n",
       "      <th></th>\n",
       "      <th>id</th>\n",
       "      <th>region</th>\n",
       "      <th>price</th>\n",
       "      <th>year</th>\n",
       "      <th>manufacturer</th>\n",
       "      <th>model</th>\n",
       "      <th>condition</th>\n",
       "      <th>cylinders</th>\n",
       "      <th>fuel</th>\n",
       "      <th>odometer</th>\n",
       "      <th>title_status</th>\n",
       "      <th>transmission</th>\n",
       "      <th>VIN</th>\n",
       "      <th>drive</th>\n",
       "      <th>size</th>\n",
       "      <th>type</th>\n",
       "      <th>paint_color</th>\n",
       "      <th>state</th>\n",
       "    </tr>\n",
       "  </thead>\n",
       "  <tbody>\n",
       "    <tr>\n",
       "      <th>0</th>\n",
       "      <td>7222695916</td>\n",
       "      <td>prescott</td>\n",
       "      <td>6000</td>\n",
       "      <td>NaN</td>\n",
       "      <td>NaN</td>\n",
       "      <td>NaN</td>\n",
       "      <td>NaN</td>\n",
       "      <td>NaN</td>\n",
       "      <td>NaN</td>\n",
       "      <td>NaN</td>\n",
       "      <td>NaN</td>\n",
       "      <td>NaN</td>\n",
       "      <td>NaN</td>\n",
       "      <td>NaN</td>\n",
       "      <td>NaN</td>\n",
       "      <td>NaN</td>\n",
       "      <td>NaN</td>\n",
       "      <td>az</td>\n",
       "    </tr>\n",
       "    <tr>\n",
       "      <th>1</th>\n",
       "      <td>7218891961</td>\n",
       "      <td>fayetteville</td>\n",
       "      <td>11900</td>\n",
       "      <td>NaN</td>\n",
       "      <td>NaN</td>\n",
       "      <td>NaN</td>\n",
       "      <td>NaN</td>\n",
       "      <td>NaN</td>\n",
       "      <td>NaN</td>\n",
       "      <td>NaN</td>\n",
       "      <td>NaN</td>\n",
       "      <td>NaN</td>\n",
       "      <td>NaN</td>\n",
       "      <td>NaN</td>\n",
       "      <td>NaN</td>\n",
       "      <td>NaN</td>\n",
       "      <td>NaN</td>\n",
       "      <td>ar</td>\n",
       "    </tr>\n",
       "    <tr>\n",
       "      <th>2</th>\n",
       "      <td>7221797935</td>\n",
       "      <td>florida keys</td>\n",
       "      <td>21000</td>\n",
       "      <td>NaN</td>\n",
       "      <td>NaN</td>\n",
       "      <td>NaN</td>\n",
       "      <td>NaN</td>\n",
       "      <td>NaN</td>\n",
       "      <td>NaN</td>\n",
       "      <td>NaN</td>\n",
       "      <td>NaN</td>\n",
       "      <td>NaN</td>\n",
       "      <td>NaN</td>\n",
       "      <td>NaN</td>\n",
       "      <td>NaN</td>\n",
       "      <td>NaN</td>\n",
       "      <td>NaN</td>\n",
       "      <td>fl</td>\n",
       "    </tr>\n",
       "    <tr>\n",
       "      <th>3</th>\n",
       "      <td>7222270760</td>\n",
       "      <td>worcester / central MA</td>\n",
       "      <td>1500</td>\n",
       "      <td>NaN</td>\n",
       "      <td>NaN</td>\n",
       "      <td>NaN</td>\n",
       "      <td>NaN</td>\n",
       "      <td>NaN</td>\n",
       "      <td>NaN</td>\n",
       "      <td>NaN</td>\n",
       "      <td>NaN</td>\n",
       "      <td>NaN</td>\n",
       "      <td>NaN</td>\n",
       "      <td>NaN</td>\n",
       "      <td>NaN</td>\n",
       "      <td>NaN</td>\n",
       "      <td>NaN</td>\n",
       "      <td>ma</td>\n",
       "    </tr>\n",
       "    <tr>\n",
       "      <th>4</th>\n",
       "      <td>7210384030</td>\n",
       "      <td>greensboro</td>\n",
       "      <td>4900</td>\n",
       "      <td>NaN</td>\n",
       "      <td>NaN</td>\n",
       "      <td>NaN</td>\n",
       "      <td>NaN</td>\n",
       "      <td>NaN</td>\n",
       "      <td>NaN</td>\n",
       "      <td>NaN</td>\n",
       "      <td>NaN</td>\n",
       "      <td>NaN</td>\n",
       "      <td>NaN</td>\n",
       "      <td>NaN</td>\n",
       "      <td>NaN</td>\n",
       "      <td>NaN</td>\n",
       "      <td>NaN</td>\n",
       "      <td>nc</td>\n",
       "    </tr>\n",
       "    <tr>\n",
       "      <th>5</th>\n",
       "      <td>7222379453</td>\n",
       "      <td>hudson valley</td>\n",
       "      <td>1600</td>\n",
       "      <td>NaN</td>\n",
       "      <td>NaN</td>\n",
       "      <td>NaN</td>\n",
       "      <td>NaN</td>\n",
       "      <td>NaN</td>\n",
       "      <td>NaN</td>\n",
       "      <td>NaN</td>\n",
       "      <td>NaN</td>\n",
       "      <td>NaN</td>\n",
       "      <td>NaN</td>\n",
       "      <td>NaN</td>\n",
       "      <td>NaN</td>\n",
       "      <td>NaN</td>\n",
       "      <td>NaN</td>\n",
       "      <td>ny</td>\n",
       "    </tr>\n",
       "    <tr>\n",
       "      <th>6</th>\n",
       "      <td>7221952215</td>\n",
       "      <td>hudson valley</td>\n",
       "      <td>1000</td>\n",
       "      <td>NaN</td>\n",
       "      <td>NaN</td>\n",
       "      <td>NaN</td>\n",
       "      <td>NaN</td>\n",
       "      <td>NaN</td>\n",
       "      <td>NaN</td>\n",
       "      <td>NaN</td>\n",
       "      <td>NaN</td>\n",
       "      <td>NaN</td>\n",
       "      <td>NaN</td>\n",
       "      <td>NaN</td>\n",
       "      <td>NaN</td>\n",
       "      <td>NaN</td>\n",
       "      <td>NaN</td>\n",
       "      <td>ny</td>\n",
       "    </tr>\n",
       "    <tr>\n",
       "      <th>7</th>\n",
       "      <td>7220195662</td>\n",
       "      <td>hudson valley</td>\n",
       "      <td>15995</td>\n",
       "      <td>NaN</td>\n",
       "      <td>NaN</td>\n",
       "      <td>NaN</td>\n",
       "      <td>NaN</td>\n",
       "      <td>NaN</td>\n",
       "      <td>NaN</td>\n",
       "      <td>NaN</td>\n",
       "      <td>NaN</td>\n",
       "      <td>NaN</td>\n",
       "      <td>NaN</td>\n",
       "      <td>NaN</td>\n",
       "      <td>NaN</td>\n",
       "      <td>NaN</td>\n",
       "      <td>NaN</td>\n",
       "      <td>ny</td>\n",
       "    </tr>\n",
       "    <tr>\n",
       "      <th>8</th>\n",
       "      <td>7209064557</td>\n",
       "      <td>medford-ashland</td>\n",
       "      <td>5000</td>\n",
       "      <td>NaN</td>\n",
       "      <td>NaN</td>\n",
       "      <td>NaN</td>\n",
       "      <td>NaN</td>\n",
       "      <td>NaN</td>\n",
       "      <td>NaN</td>\n",
       "      <td>NaN</td>\n",
       "      <td>NaN</td>\n",
       "      <td>NaN</td>\n",
       "      <td>NaN</td>\n",
       "      <td>NaN</td>\n",
       "      <td>NaN</td>\n",
       "      <td>NaN</td>\n",
       "      <td>NaN</td>\n",
       "      <td>or</td>\n",
       "    </tr>\n",
       "    <tr>\n",
       "      <th>9</th>\n",
       "      <td>7219485069</td>\n",
       "      <td>erie</td>\n",
       "      <td>3000</td>\n",
       "      <td>NaN</td>\n",
       "      <td>NaN</td>\n",
       "      <td>NaN</td>\n",
       "      <td>NaN</td>\n",
       "      <td>NaN</td>\n",
       "      <td>NaN</td>\n",
       "      <td>NaN</td>\n",
       "      <td>NaN</td>\n",
       "      <td>NaN</td>\n",
       "      <td>NaN</td>\n",
       "      <td>NaN</td>\n",
       "      <td>NaN</td>\n",
       "      <td>NaN</td>\n",
       "      <td>NaN</td>\n",
       "      <td>pa</td>\n",
       "    </tr>\n",
       "  </tbody>\n",
       "</table>\n",
       "</div>"
      ],
      "text/plain": [
       "           id                  region  price  year manufacturer model condition cylinders fuel  odometer title_status transmission  VIN drive size type paint_color state\n",
       "0  7222695916                prescott   6000   NaN          NaN   NaN       NaN       NaN  NaN       NaN          NaN          NaN  NaN   NaN  NaN  NaN         NaN    az\n",
       "1  7218891961            fayetteville  11900   NaN          NaN   NaN       NaN       NaN  NaN       NaN          NaN          NaN  NaN   NaN  NaN  NaN         NaN    ar\n",
       "2  7221797935            florida keys  21000   NaN          NaN   NaN       NaN       NaN  NaN       NaN          NaN          NaN  NaN   NaN  NaN  NaN         NaN    fl\n",
       "3  7222270760  worcester / central MA   1500   NaN          NaN   NaN       NaN       NaN  NaN       NaN          NaN          NaN  NaN   NaN  NaN  NaN         NaN    ma\n",
       "4  7210384030              greensboro   4900   NaN          NaN   NaN       NaN       NaN  NaN       NaN          NaN          NaN  NaN   NaN  NaN  NaN         NaN    nc\n",
       "5  7222379453           hudson valley   1600   NaN          NaN   NaN       NaN       NaN  NaN       NaN          NaN          NaN  NaN   NaN  NaN  NaN         NaN    ny\n",
       "6  7221952215           hudson valley   1000   NaN          NaN   NaN       NaN       NaN  NaN       NaN          NaN          NaN  NaN   NaN  NaN  NaN         NaN    ny\n",
       "7  7220195662           hudson valley  15995   NaN          NaN   NaN       NaN       NaN  NaN       NaN          NaN          NaN  NaN   NaN  NaN  NaN         NaN    ny\n",
       "8  7209064557         medford-ashland   5000   NaN          NaN   NaN       NaN       NaN  NaN       NaN          NaN          NaN  NaN   NaN  NaN  NaN         NaN    or\n",
       "9  7219485069                    erie   3000   NaN          NaN   NaN       NaN       NaN  NaN       NaN          NaN          NaN  NaN   NaN  NaN  NaN         NaN    pa"
      ]
     },
     "execution_count": 6,
     "metadata": {},
     "output_type": "execute_result"
    }
   ],
   "source": [
    "#print the ten first rows of teh dataframe\n",
    "df_1.head(10)"
   ]
  },
  {
   "cell_type": "code",
   "execution_count": null,
   "metadata": {},
   "outputs": [],
   "source": []
  },
  {
   "cell_type": "code",
   "execution_count": 7,
   "metadata": {},
   "outputs": [
    {
     "data": {
      "text/plain": [
       "0"
      ]
     },
     "execution_count": 7,
     "metadata": {},
     "output_type": "execute_result"
    }
   ],
   "source": [
    "#count non unique id values\n",
    "(df_1[\"id\"].value_counts()>1).sum()"
   ]
  },
  {
   "cell_type": "code",
   "execution_count": 8,
   "metadata": {},
   "outputs": [],
   "source": [
    "#Non informative features: id\n",
    "\n",
    "\n",
    "#we can delete column id as it adds no information to the study (can be used as index)\n",
    "df_1_1=df_1.drop([\"id\"], axis = 1)"
   ]
  },
  {
   "cell_type": "code",
   "execution_count": 9,
   "metadata": {},
   "outputs": [
    {
     "data": {
      "text/plain": [
       "Index(['region', 'price', 'year', 'manufacturer', 'model', 'condition', 'cylinders', 'fuel', 'odometer', 'title_status', 'transmission', 'VIN', 'drive', 'size', 'type', 'paint_color', 'state'], dtype='object')"
      ]
     },
     "execution_count": 9,
     "metadata": {},
     "output_type": "execute_result"
    }
   ],
   "source": [
    "df_1_1.columns"
   ]
  },
  {
   "cell_type": "code",
   "execution_count": null,
   "metadata": {},
   "outputs": [],
   "source": []
  },
  {
   "cell_type": "code",
   "execution_count": 10,
   "metadata": {},
   "outputs": [
    {
     "name": "stdout",
     "output_type": "stream",
     "text": [
      "<class 'pandas.core.frame.DataFrame'>\n",
      "RangeIndex: 426880 entries, 0 to 426879\n",
      "Data columns (total 17 columns):\n",
      " #   Column        Non-Null Count   Dtype  \n",
      "---  ------        --------------   -----  \n",
      " 0   region        426880 non-null  object \n",
      " 1   price         426880 non-null  int64  \n",
      " 2   year          425675 non-null  float64\n",
      " 3   manufacturer  409234 non-null  object \n",
      " 4   model         421603 non-null  object \n",
      " 5   condition     252776 non-null  object \n",
      " 6   cylinders     249202 non-null  object \n",
      " 7   fuel          423867 non-null  object \n",
      " 8   odometer      422480 non-null  float64\n",
      " 9   title_status  418638 non-null  object \n",
      " 10  transmission  424324 non-null  object \n",
      " 11  VIN           265838 non-null  object \n",
      " 12  drive         296313 non-null  object \n",
      " 13  size          120519 non-null  object \n",
      " 14  type          334022 non-null  object \n",
      " 15  paint_color   296677 non-null  object \n",
      " 16  state         426880 non-null  object \n",
      "dtypes: float64(2), int64(1), object(14)\n",
      "memory usage: 55.4+ MB\n"
     ]
    }
   ],
   "source": [
    "#we examine the information of the datframe\n",
    "df_1_1.info()"
   ]
  },
  {
   "cell_type": "code",
   "execution_count": null,
   "metadata": {},
   "outputs": [],
   "source": []
  },
  {
   "cell_type": "markdown",
   "metadata": {},
   "source": [
    "## 1. Missing Values"
   ]
  },
  {
   "cell_type": "code",
   "execution_count": 11,
   "metadata": {},
   "outputs": [
    {
     "data": {
      "text/plain": [
       "region           0.000000\n",
       "price            0.000000\n",
       "year             0.282281\n",
       "manufacturer     4.133714\n",
       "model            1.236179\n",
       "condition       40.785232\n",
       "cylinders       41.622470\n",
       "fuel             0.705819\n",
       "odometer         1.030735\n",
       "title_status     1.930753\n",
       "transmission     0.598763\n",
       "VIN             37.725356\n",
       "drive           30.586347\n",
       "size            71.767476\n",
       "type            21.752717\n",
       "paint_color     30.501078\n",
       "state            0.000000\n",
       "dtype: float64"
      ]
     },
     "execution_count": 11,
     "metadata": {},
     "output_type": "execute_result"
    }
   ],
   "source": [
    "\n",
    "#percentage of missing values per column (feature)\n",
    "percent_missing = df_1_1.isnull().sum() * 100 / len(df_1)\n",
    "percent_missing"
   ]
  },
  {
   "cell_type": "code",
   "execution_count": null,
   "metadata": {},
   "outputs": [],
   "source": []
  },
  {
   "cell_type": "code",
   "execution_count": 12,
   "metadata": {},
   "outputs": [
    {
     "data": {
      "text/plain": [
       "region           0.000000\n",
       "price            0.000000\n",
       "year             0.282281\n",
       "manufacturer     4.133714\n",
       "model            1.236179\n",
       "condition       40.785232\n",
       "cylinders       41.622470\n",
       "fuel             0.705819\n",
       "odometer         1.030735\n",
       "title_status     1.930753\n",
       "transmission     0.598763\n",
       "VIN             37.725356\n",
       "drive           30.586347\n",
       "size            71.767476\n",
       "type            21.752717\n",
       "paint_color     30.501078\n",
       "state            0.000000\n",
       "dtype: float64"
      ]
     },
     "execution_count": 12,
     "metadata": {},
     "output_type": "execute_result"
    }
   ],
   "source": [
    "\n",
    "\n",
    "#2nd way, percentage of missing values per column (feature)\n",
    "percent_missing_1 = df_1_1.isnull().mean() * 100\n",
    "percent_missing_1"
   ]
  },
  {
   "cell_type": "code",
   "execution_count": null,
   "metadata": {},
   "outputs": [],
   "source": []
  },
  {
   "cell_type": "code",
   "execution_count": null,
   "metadata": {},
   "outputs": [],
   "source": []
  },
  {
   "cell_type": "markdown",
   "metadata": {},
   "source": [
    "## Approach 1 for missing values\n",
    "### we will drop the  column with 71% of missing values\n",
    "### then we drop the remaining rows with missing values"
   ]
  },
  {
   "cell_type": "code",
   "execution_count": 13,
   "metadata": {},
   "outputs": [],
   "source": [
    "\n",
    "#drop column size  with 71.7% missing values\n",
    "df_2=df_1_1.drop([\"size\"],axis=1)"
   ]
  },
  {
   "cell_type": "code",
   "execution_count": 14,
   "metadata": {},
   "outputs": [
    {
     "name": "stdout",
     "output_type": "stream",
     "text": [
      "<class 'pandas.core.frame.DataFrame'>\n",
      "RangeIndex: 426880 entries, 0 to 426879\n",
      "Data columns (total 16 columns):\n",
      " #   Column        Non-Null Count   Dtype  \n",
      "---  ------        --------------   -----  \n",
      " 0   region        426880 non-null  object \n",
      " 1   price         426880 non-null  int64  \n",
      " 2   year          425675 non-null  float64\n",
      " 3   manufacturer  409234 non-null  object \n",
      " 4   model         421603 non-null  object \n",
      " 5   condition     252776 non-null  object \n",
      " 6   cylinders     249202 non-null  object \n",
      " 7   fuel          423867 non-null  object \n",
      " 8   odometer      422480 non-null  float64\n",
      " 9   title_status  418638 non-null  object \n",
      " 10  transmission  424324 non-null  object \n",
      " 11  VIN           265838 non-null  object \n",
      " 12  drive         296313 non-null  object \n",
      " 13  type          334022 non-null  object \n",
      " 14  paint_color   296677 non-null  object \n",
      " 15  state         426880 non-null  object \n",
      "dtypes: float64(2), int64(1), object(13)\n",
      "memory usage: 52.1+ MB\n"
     ]
    }
   ],
   "source": [
    "df_2.info()"
   ]
  },
  {
   "cell_type": "code",
   "execution_count": 15,
   "metadata": {},
   "outputs": [
    {
     "data": {
      "text/plain": [
       "region           0.000000\n",
       "price            0.000000\n",
       "year             0.282281\n",
       "manufacturer     4.133714\n",
       "model            1.236179\n",
       "condition       40.785232\n",
       "cylinders       41.622470\n",
       "fuel             0.705819\n",
       "odometer         1.030735\n",
       "title_status     1.930753\n",
       "transmission     0.598763\n",
       "VIN             37.725356\n",
       "drive           30.586347\n",
       "type            21.752717\n",
       "paint_color     30.501078\n",
       "state            0.000000\n",
       "dtype: float64"
      ]
     },
     "execution_count": 15,
     "metadata": {},
     "output_type": "execute_result"
    }
   ],
   "source": [
    "df_2.isnull().mean() * 100"
   ]
  },
  {
   "cell_type": "code",
   "execution_count": 16,
   "metadata": {},
   "outputs": [],
   "source": [
    "#drop rows with missing values\n",
    "df_3=df_2.dropna(axis=0)"
   ]
  },
  {
   "cell_type": "code",
   "execution_count": 17,
   "metadata": {},
   "outputs": [
    {
     "data": {
      "text/plain": [
       "region          0.0\n",
       "price           0.0\n",
       "year            0.0\n",
       "manufacturer    0.0\n",
       "model           0.0\n",
       "condition       0.0\n",
       "cylinders       0.0\n",
       "fuel            0.0\n",
       "odometer        0.0\n",
       "title_status    0.0\n",
       "transmission    0.0\n",
       "VIN             0.0\n",
       "drive           0.0\n",
       "type            0.0\n",
       "paint_color     0.0\n",
       "state           0.0\n",
       "dtype: float64"
      ]
     },
     "execution_count": 17,
     "metadata": {},
     "output_type": "execute_result"
    }
   ],
   "source": [
    "#we verify the percentage of missing values\n",
    "\n",
    "df_3.isnull().mean() * 100"
   ]
  },
  {
   "cell_type": "code",
   "execution_count": 18,
   "metadata": {},
   "outputs": [
    {
     "name": "stdout",
     "output_type": "stream",
     "text": [
      "<class 'pandas.core.frame.DataFrame'>\n",
      "Int64Index: 61005 entries, 32 to 426878\n",
      "Data columns (total 16 columns):\n",
      " #   Column        Non-Null Count  Dtype  \n",
      "---  ------        --------------  -----  \n",
      " 0   region        61005 non-null  object \n",
      " 1   price         61005 non-null  int64  \n",
      " 2   year          61005 non-null  float64\n",
      " 3   manufacturer  61005 non-null  object \n",
      " 4   model         61005 non-null  object \n",
      " 5   condition     61005 non-null  object \n",
      " 6   cylinders     61005 non-null  object \n",
      " 7   fuel          61005 non-null  object \n",
      " 8   odometer      61005 non-null  float64\n",
      " 9   title_status  61005 non-null  object \n",
      " 10  transmission  61005 non-null  object \n",
      " 11  VIN           61005 non-null  object \n",
      " 12  drive         61005 non-null  object \n",
      " 13  type          61005 non-null  object \n",
      " 14  paint_color   61005 non-null  object \n",
      " 15  state         61005 non-null  object \n",
      "dtypes: float64(2), int64(1), object(13)\n",
      "memory usage: 7.9+ MB\n"
     ]
    }
   ],
   "source": [
    "#we examine the information of dataframe df3\n",
    "df_3.info()"
   ]
  },
  {
   "cell_type": "code",
   "execution_count": 19,
   "metadata": {},
   "outputs": [
    {
     "data": {
      "text/plain": [
       "((426880, 17), (61005, 16), 365875)"
      ]
     },
     "execution_count": 19,
     "metadata": {},
     "output_type": "execute_result"
    }
   ],
   "source": [
    "#df_1_1.shape, df_3.shape, df_1_1.shape[0]-df_3.shape[0]"
   ]
  },
  {
   "cell_type": "code",
   "execution_count": 39,
   "metadata": {},
   "outputs": [
    {
     "data": {
      "text/html": [
       "<div>\n",
       "<style scoped>\n",
       "    .dataframe tbody tr th:only-of-type {\n",
       "        vertical-align: middle;\n",
       "    }\n",
       "\n",
       "    .dataframe tbody tr th {\n",
       "        vertical-align: top;\n",
       "    }\n",
       "\n",
       "    .dataframe thead th {\n",
       "        text-align: right;\n",
       "    }\n",
       "</style>\n",
       "<table border=\"1\" class=\"dataframe\">\n",
       "  <thead>\n",
       "    <tr style=\"text-align: right;\">\n",
       "      <th></th>\n",
       "      <th>region</th>\n",
       "      <th>price</th>\n",
       "      <th>year</th>\n",
       "      <th>manufacturer</th>\n",
       "      <th>model</th>\n",
       "      <th>condition</th>\n",
       "      <th>cylinders</th>\n",
       "      <th>fuel</th>\n",
       "      <th>odometer</th>\n",
       "      <th>title_status</th>\n",
       "      <th>transmission</th>\n",
       "      <th>VIN</th>\n",
       "      <th>drive</th>\n",
       "      <th>type</th>\n",
       "      <th>paint_color</th>\n",
       "      <th>state</th>\n",
       "    </tr>\n",
       "  </thead>\n",
       "  <tbody>\n",
       "    <tr>\n",
       "      <th>32</th>\n",
       "      <td>auburn</td>\n",
       "      <td>27990</td>\n",
       "      <td>2012.0</td>\n",
       "      <td>gmc</td>\n",
       "      <td>sierra 2500 hd extended cab</td>\n",
       "      <td>good</td>\n",
       "      <td>8 cylinders</td>\n",
       "      <td>gas</td>\n",
       "      <td>68696.0</td>\n",
       "      <td>clean</td>\n",
       "      <td>other</td>\n",
       "      <td>1GT220CG8CZ231238</td>\n",
       "      <td>4wd</td>\n",
       "      <td>pickup</td>\n",
       "      <td>black</td>\n",
       "      <td>al</td>\n",
       "    </tr>\n",
       "    <tr>\n",
       "      <th>33</th>\n",
       "      <td>auburn</td>\n",
       "      <td>34590</td>\n",
       "      <td>2016.0</td>\n",
       "      <td>chevrolet</td>\n",
       "      <td>silverado 1500 double</td>\n",
       "      <td>good</td>\n",
       "      <td>6 cylinders</td>\n",
       "      <td>gas</td>\n",
       "      <td>29499.0</td>\n",
       "      <td>clean</td>\n",
       "      <td>other</td>\n",
       "      <td>1GCVKREH6GZ228691</td>\n",
       "      <td>4wd</td>\n",
       "      <td>pickup</td>\n",
       "      <td>silver</td>\n",
       "      <td>al</td>\n",
       "    </tr>\n",
       "    <tr>\n",
       "      <th>35</th>\n",
       "      <td>auburn</td>\n",
       "      <td>29990</td>\n",
       "      <td>2016.0</td>\n",
       "      <td>chevrolet</td>\n",
       "      <td>colorado extended cab</td>\n",
       "      <td>good</td>\n",
       "      <td>6 cylinders</td>\n",
       "      <td>gas</td>\n",
       "      <td>17302.0</td>\n",
       "      <td>clean</td>\n",
       "      <td>other</td>\n",
       "      <td>1GCHTCE37G1186784</td>\n",
       "      <td>4wd</td>\n",
       "      <td>pickup</td>\n",
       "      <td>red</td>\n",
       "      <td>al</td>\n",
       "    </tr>\n",
       "    <tr>\n",
       "      <th>36</th>\n",
       "      <td>auburn</td>\n",
       "      <td>38590</td>\n",
       "      <td>2011.0</td>\n",
       "      <td>chevrolet</td>\n",
       "      <td>corvette grand sport</td>\n",
       "      <td>good</td>\n",
       "      <td>8 cylinders</td>\n",
       "      <td>gas</td>\n",
       "      <td>30237.0</td>\n",
       "      <td>clean</td>\n",
       "      <td>other</td>\n",
       "      <td>1G1YR3DW3B5102190</td>\n",
       "      <td>rwd</td>\n",
       "      <td>other</td>\n",
       "      <td>red</td>\n",
       "      <td>al</td>\n",
       "    </tr>\n",
       "    <tr>\n",
       "      <th>38</th>\n",
       "      <td>auburn</td>\n",
       "      <td>32990</td>\n",
       "      <td>2017.0</td>\n",
       "      <td>jeep</td>\n",
       "      <td>wrangler unlimited sport</td>\n",
       "      <td>good</td>\n",
       "      <td>6 cylinders</td>\n",
       "      <td>gas</td>\n",
       "      <td>30041.0</td>\n",
       "      <td>clean</td>\n",
       "      <td>other</td>\n",
       "      <td>1C4BJWDG5HL705371</td>\n",
       "      <td>4wd</td>\n",
       "      <td>other</td>\n",
       "      <td>silver</td>\n",
       "      <td>al</td>\n",
       "    </tr>\n",
       "  </tbody>\n",
       "</table>\n",
       "</div>"
      ],
      "text/plain": [
       "    region  price    year manufacturer                        model condition    cylinders fuel  odometer title_status transmission                VIN drive    type paint_color state\n",
       "32  auburn  27990  2012.0          gmc  sierra 2500 hd extended cab      good  8 cylinders  gas   68696.0        clean        other  1GT220CG8CZ231238   4wd  pickup       black    al\n",
       "33  auburn  34590  2016.0    chevrolet        silverado 1500 double      good  6 cylinders  gas   29499.0        clean        other  1GCVKREH6GZ228691   4wd  pickup      silver    al\n",
       "35  auburn  29990  2016.0    chevrolet        colorado extended cab      good  6 cylinders  gas   17302.0        clean        other  1GCHTCE37G1186784   4wd  pickup         red    al\n",
       "36  auburn  38590  2011.0    chevrolet         corvette grand sport      good  8 cylinders  gas   30237.0        clean        other  1G1YR3DW3B5102190   rwd   other         red    al\n",
       "38  auburn  32990  2017.0         jeep     wrangler unlimited sport      good  6 cylinders  gas   30041.0        clean        other  1C4BJWDG5HL705371   4wd   other      silver    al"
      ]
     },
     "execution_count": 39,
     "metadata": {},
     "output_type": "execute_result"
    }
   ],
   "source": [
    "#we observe the five first rows of datframe df_3\n",
    "df_3.head()"
   ]
  },
  {
   "cell_type": "code",
   "execution_count": null,
   "metadata": {},
   "outputs": [],
   "source": []
  },
  {
   "cell_type": "markdown",
   "metadata": {},
   "source": [
    "## Approach 2 for missing values\n",
    "### we will drop all the  columns with missing values\n"
   ]
  },
  {
   "cell_type": "code",
   "execution_count": 20,
   "metadata": {},
   "outputs": [],
   "source": [
    "#however one could estimate missing values \n",
    "#especialy for the rows using AI or other imputation techniques\n",
    "#adequate for object type variables \n",
    "\n",
    "#for the study the  column with the greatest % of missing values \n",
    "#was deeted that is feature size and then  all the rows with missing values\n",
    "#were deleted. However with this technique 365875 entries were lost leaving\n",
    "# only 61005 entries for the study.\n",
    "\n",
    "#For each entry 16 out of the 17 available featires are going to be employed.\n",
    "#feature \"Size\" was deleted due to the high number fo missing values."
   ]
  },
  {
   "cell_type": "code",
   "execution_count": null,
   "metadata": {},
   "outputs": [],
   "source": []
  },
  {
   "cell_type": "code",
   "execution_count": 21,
   "metadata": {},
   "outputs": [],
   "source": [
    "#dataframe where all columns with nan values are deleted \n",
    "df_a=df_1_1.drop([\"condition\",\"cylinders\",\"VIN\",\"drive\",\"type\",\"paint_color\",\"size\"],axis=1)"
   ]
  },
  {
   "cell_type": "code",
   "execution_count": 22,
   "metadata": {},
   "outputs": [
    {
     "name": "stdout",
     "output_type": "stream",
     "text": [
      "<class 'pandas.core.frame.DataFrame'>\n",
      "RangeIndex: 426880 entries, 0 to 426879\n",
      "Data columns (total 10 columns):\n",
      " #   Column        Non-Null Count   Dtype  \n",
      "---  ------        --------------   -----  \n",
      " 0   region        426880 non-null  object \n",
      " 1   price         426880 non-null  int64  \n",
      " 2   year          425675 non-null  float64\n",
      " 3   manufacturer  409234 non-null  object \n",
      " 4   model         421603 non-null  object \n",
      " 5   fuel          423867 non-null  object \n",
      " 6   odometer      422480 non-null  float64\n",
      " 7   title_status  418638 non-null  object \n",
      " 8   transmission  424324 non-null  object \n",
      " 9   state         426880 non-null  object \n",
      "dtypes: float64(2), int64(1), object(7)\n",
      "memory usage: 32.6+ MB\n"
     ]
    }
   ],
   "source": [
    "#information of df_a\n",
    "df_a.info()"
   ]
  },
  {
   "cell_type": "code",
   "execution_count": 23,
   "metadata": {},
   "outputs": [],
   "source": [
    "#delete rows with missing values\n",
    "df_b=df_a.dropna(axis=0)"
   ]
  },
  {
   "cell_type": "code",
   "execution_count": 24,
   "metadata": {},
   "outputs": [
    {
     "name": "stdout",
     "output_type": "stream",
     "text": [
      "<class 'pandas.core.frame.DataFrame'>\n",
      "Int64Index: 389604 entries, 27 to 426879\n",
      "Data columns (total 10 columns):\n",
      " #   Column        Non-Null Count   Dtype  \n",
      "---  ------        --------------   -----  \n",
      " 0   region        389604 non-null  object \n",
      " 1   price         389604 non-null  int64  \n",
      " 2   year          389604 non-null  float64\n",
      " 3   manufacturer  389604 non-null  object \n",
      " 4   model         389604 non-null  object \n",
      " 5   fuel          389604 non-null  object \n",
      " 6   odometer      389604 non-null  float64\n",
      " 7   title_status  389604 non-null  object \n",
      " 8   transmission  389604 non-null  object \n",
      " 9   state         389604 non-null  object \n",
      "dtypes: float64(2), int64(1), object(7)\n",
      "memory usage: 32.7+ MB\n"
     ]
    }
   ],
   "source": [
    "#inforation on df_b\n",
    "df_b.info()"
   ]
  },
  {
   "cell_type": "code",
   "execution_count": null,
   "metadata": {},
   "outputs": [],
   "source": []
  },
  {
   "cell_type": "code",
   "execution_count": 25,
   "metadata": {
    "scrolled": true
   },
   "outputs": [
    {
     "data": {
      "text/html": [
       "<div>\n",
       "<style scoped>\n",
       "    .dataframe tbody tr th:only-of-type {\n",
       "        vertical-align: middle;\n",
       "    }\n",
       "\n",
       "    .dataframe tbody tr th {\n",
       "        vertical-align: top;\n",
       "    }\n",
       "\n",
       "    .dataframe thead th {\n",
       "        text-align: right;\n",
       "    }\n",
       "</style>\n",
       "<table border=\"1\" class=\"dataframe\">\n",
       "  <thead>\n",
       "    <tr style=\"text-align: right;\">\n",
       "      <th></th>\n",
       "      <th>region</th>\n",
       "      <th>price</th>\n",
       "      <th>year</th>\n",
       "      <th>manufacturer</th>\n",
       "      <th>model</th>\n",
       "      <th>fuel</th>\n",
       "      <th>odometer</th>\n",
       "      <th>title_status</th>\n",
       "      <th>transmission</th>\n",
       "      <th>state</th>\n",
       "    </tr>\n",
       "  </thead>\n",
       "  <tbody>\n",
       "    <tr>\n",
       "      <th>27</th>\n",
       "      <td>auburn</td>\n",
       "      <td>33590</td>\n",
       "      <td>2014.0</td>\n",
       "      <td>gmc</td>\n",
       "      <td>sierra 1500 crew cab slt</td>\n",
       "      <td>gas</td>\n",
       "      <td>57923.0</td>\n",
       "      <td>clean</td>\n",
       "      <td>other</td>\n",
       "      <td>al</td>\n",
       "    </tr>\n",
       "    <tr>\n",
       "      <th>28</th>\n",
       "      <td>auburn</td>\n",
       "      <td>22590</td>\n",
       "      <td>2010.0</td>\n",
       "      <td>chevrolet</td>\n",
       "      <td>silverado 1500</td>\n",
       "      <td>gas</td>\n",
       "      <td>71229.0</td>\n",
       "      <td>clean</td>\n",
       "      <td>other</td>\n",
       "      <td>al</td>\n",
       "    </tr>\n",
       "    <tr>\n",
       "      <th>29</th>\n",
       "      <td>auburn</td>\n",
       "      <td>39590</td>\n",
       "      <td>2020.0</td>\n",
       "      <td>chevrolet</td>\n",
       "      <td>silverado 1500 crew</td>\n",
       "      <td>gas</td>\n",
       "      <td>19160.0</td>\n",
       "      <td>clean</td>\n",
       "      <td>other</td>\n",
       "      <td>al</td>\n",
       "    </tr>\n",
       "    <tr>\n",
       "      <th>30</th>\n",
       "      <td>auburn</td>\n",
       "      <td>30990</td>\n",
       "      <td>2017.0</td>\n",
       "      <td>toyota</td>\n",
       "      <td>tundra double cab sr</td>\n",
       "      <td>gas</td>\n",
       "      <td>41124.0</td>\n",
       "      <td>clean</td>\n",
       "      <td>other</td>\n",
       "      <td>al</td>\n",
       "    </tr>\n",
       "    <tr>\n",
       "      <th>31</th>\n",
       "      <td>auburn</td>\n",
       "      <td>15000</td>\n",
       "      <td>2013.0</td>\n",
       "      <td>ford</td>\n",
       "      <td>f-150 xlt</td>\n",
       "      <td>gas</td>\n",
       "      <td>128000.0</td>\n",
       "      <td>clean</td>\n",
       "      <td>automatic</td>\n",
       "      <td>al</td>\n",
       "    </tr>\n",
       "  </tbody>\n",
       "</table>\n",
       "</div>"
      ],
      "text/plain": [
       "    region  price    year manufacturer                     model fuel  odometer title_status transmission state\n",
       "27  auburn  33590  2014.0          gmc  sierra 1500 crew cab slt  gas   57923.0        clean        other    al\n",
       "28  auburn  22590  2010.0    chevrolet            silverado 1500  gas   71229.0        clean        other    al\n",
       "29  auburn  39590  2020.0    chevrolet       silverado 1500 crew  gas   19160.0        clean        other    al\n",
       "30  auburn  30990  2017.0       toyota      tundra double cab sr  gas   41124.0        clean        other    al\n",
       "31  auburn  15000  2013.0         ford                 f-150 xlt  gas  128000.0        clean    automatic    al"
      ]
     },
     "execution_count": 25,
     "metadata": {},
     "output_type": "execute_result"
    }
   ],
   "source": [
    "#we observe the five first rows of df_b\n",
    "df_b.head()"
   ]
  },
  {
   "cell_type": "code",
   "execution_count": 26,
   "metadata": {
    "scrolled": true
   },
   "outputs": [
    {
     "data": {
      "text/plain": [
       "region          0.0\n",
       "price           0.0\n",
       "year            0.0\n",
       "manufacturer    0.0\n",
       "model           0.0\n",
       "fuel            0.0\n",
       "odometer        0.0\n",
       "title_status    0.0\n",
       "transmission    0.0\n",
       "state           0.0\n",
       "dtype: float64"
      ]
     },
     "execution_count": 26,
     "metadata": {},
     "output_type": "execute_result"
    }
   ],
   "source": [
    "\n",
    "#percentage of missing values for df_b per column\n",
    "df_b.isnull().mean() * 100"
   ]
  },
  {
   "cell_type": "code",
   "execution_count": 27,
   "metadata": {},
   "outputs": [
    {
     "name": "stdout",
     "output_type": "stream",
     "text": [
      "<class 'pandas.core.frame.DataFrame'>\n",
      "Int64Index: 389604 entries, 27 to 426879\n",
      "Data columns (total 10 columns):\n",
      " #   Column        Non-Null Count   Dtype  \n",
      "---  ------        --------------   -----  \n",
      " 0   region        389604 non-null  object \n",
      " 1   price         389604 non-null  int64  \n",
      " 2   year          389604 non-null  float64\n",
      " 3   manufacturer  389604 non-null  object \n",
      " 4   model         389604 non-null  object \n",
      " 5   fuel          389604 non-null  object \n",
      " 6   odometer      389604 non-null  float64\n",
      " 7   title_status  389604 non-null  object \n",
      " 8   transmission  389604 non-null  object \n",
      " 9   state         389604 non-null  object \n",
      "dtypes: float64(2), int64(1), object(7)\n",
      "memory usage: 32.7+ MB\n"
     ]
    }
   ],
   "source": [
    "#information in df_b\n",
    "df_b.info()"
   ]
  },
  {
   "cell_type": "code",
   "execution_count": null,
   "metadata": {},
   "outputs": [],
   "source": []
  },
  {
   "cell_type": "markdown",
   "metadata": {},
   "source": [
    "## 2. Data Vectorization-Transforming Object Type  Variables to Numeric Ones"
   ]
  },
  {
   "cell_type": "code",
   "execution_count": null,
   "metadata": {},
   "outputs": [],
   "source": []
  },
  {
   "cell_type": "code",
   "execution_count": 28,
   "metadata": {},
   "outputs": [],
   "source": [
    "#a target based encoder is going to be employed \n",
    "#(allowing the number fo columns of the dataframe to remaine unchanged)\n",
    "#LeaveOneout encoder\n",
    "#https://contrib.scikit-learn.org/category_encoders/leaveoneout.html\n",
    "\n",
    "#however one should try \n",
    "#other alternatives too One-Hot encoder\n",
    "\n",
    "#https://www.analyticsvidhya.com/blog/2020/08/types-of-categorical-data-encoding/\n",
    "\n"
   ]
  },
  {
   "cell_type": "code",
   "execution_count": 29,
   "metadata": {},
   "outputs": [],
   "source": [
    "# VECTORIZATION  -  CATEGORICAL VARIABLES\n",
    "\n",
    "#fct which vectorizes object type columns of a single dataframe\n",
    "#IT RETURNS A VECTORIZED DATAFRAME\n",
    "#the encoder employed is \n",
    "#LeaveOneOutEncoder which is a traget based encoder\n",
    "\n",
    "#val_dataframe=the dataframe\n",
    "#val_name_target_variable=the name of the target variable (feature)\n",
    "\n",
    "def fct_traget_vectorization_obj_cols_df(val_dataframe, val_name_target_variable):\n",
    "    \n",
    "\n",
    "    #the list with the object type columns to vectorize                                            \n",
    "    \n",
    "                                                 \n",
    "    encoder = ce.LeaveOneOutEncoder(return_df=True,handle_missing='error')\n",
    "\n",
    "    \n",
    "    val_dataframe=\\\n",
    "    encoder.fit_transform(val_dataframe,val_dataframe[val_name_target_variable])\n",
    "\n",
    "    \n",
    "    return val_dataframe\n"
   ]
  },
  {
   "cell_type": "code",
   "execution_count": 30,
   "metadata": {},
   "outputs": [],
   "source": [
    "#vectorization de df_3\n",
    "df_4=fct_traget_vectorization_obj_cols_df(\n",
    "    val_dataframe=df_3,val_name_target_variable=\"price\")"
   ]
  },
  {
   "cell_type": "code",
   "execution_count": 31,
   "metadata": {},
   "outputs": [
    {
     "name": "stdout",
     "output_type": "stream",
     "text": [
      "<class 'pandas.core.frame.DataFrame'>\n",
      "Int64Index: 61005 entries, 32 to 426878\n",
      "Data columns (total 16 columns):\n",
      " #   Column        Non-Null Count  Dtype  \n",
      "---  ------        --------------  -----  \n",
      " 0   region        61005 non-null  float64\n",
      " 1   price         61005 non-null  int64  \n",
      " 2   year          61005 non-null  float64\n",
      " 3   manufacturer  61005 non-null  float64\n",
      " 4   model         61005 non-null  float64\n",
      " 5   condition     61005 non-null  float64\n",
      " 6   cylinders     61005 non-null  float64\n",
      " 7   fuel          61005 non-null  float64\n",
      " 8   odometer      61005 non-null  float64\n",
      " 9   title_status  61005 non-null  float64\n",
      " 10  transmission  61005 non-null  float64\n",
      " 11  VIN           61005 non-null  float64\n",
      " 12  drive         61005 non-null  float64\n",
      " 13  type          61005 non-null  float64\n",
      " 14  paint_color   61005 non-null  float64\n",
      " 15  state         61005 non-null  float64\n",
      "dtypes: float64(15), int64(1)\n",
      "memory usage: 7.9 MB\n"
     ]
    }
   ],
   "source": [
    "\n",
    "#we observe the information on the vectorized dataframe df_4\n",
    "df_4.info()"
   ]
  },
  {
   "cell_type": "code",
   "execution_count": 32,
   "metadata": {},
   "outputs": [],
   "source": [
    "#df_b.info()"
   ]
  },
  {
   "cell_type": "code",
   "execution_count": 33,
   "metadata": {},
   "outputs": [],
   "source": [
    "#vectorization of df_b\n",
    "df_c=fct_traget_vectorization_obj_cols_df(\n",
    "    val_dataframe=df_b,val_name_target_variable=\"price\")"
   ]
  },
  {
   "cell_type": "code",
   "execution_count": 34,
   "metadata": {},
   "outputs": [
    {
     "name": "stdout",
     "output_type": "stream",
     "text": [
      "<class 'pandas.core.frame.DataFrame'>\n",
      "Int64Index: 389604 entries, 27 to 426879\n",
      "Data columns (total 10 columns):\n",
      " #   Column        Non-Null Count   Dtype  \n",
      "---  ------        --------------   -----  \n",
      " 0   region        389604 non-null  float64\n",
      " 1   price         389604 non-null  int64  \n",
      " 2   year          389604 non-null  float64\n",
      " 3   manufacturer  389604 non-null  float64\n",
      " 4   model         389604 non-null  float64\n",
      " 5   fuel          389604 non-null  float64\n",
      " 6   odometer      389604 non-null  float64\n",
      " 7   title_status  389604 non-null  float64\n",
      " 8   transmission  389604 non-null  float64\n",
      " 9   state         389604 non-null  float64\n",
      "dtypes: float64(9), int64(1)\n",
      "memory usage: 32.7 MB\n"
     ]
    }
   ],
   "source": [
    "#information on the vectorized dataframe df_c\n",
    "df_c.info()"
   ]
  },
  {
   "cell_type": "code",
   "execution_count": 35,
   "metadata": {},
   "outputs": [
    {
     "data": {
      "text/plain": [
       "region          0.0\n",
       "price           0.0\n",
       "year            0.0\n",
       "manufacturer    0.0\n",
       "model           0.0\n",
       "fuel            0.0\n",
       "odometer        0.0\n",
       "title_status    0.0\n",
       "transmission    0.0\n",
       "state           0.0\n",
       "dtype: float64"
      ]
     },
     "execution_count": 35,
     "metadata": {},
     "output_type": "execute_result"
    }
   ],
   "source": [
    "#verification that the vectorization didn't created any nans\n",
    "#though it is also aobvious from  info()\n",
    "df_c.isnull().mean() * 100"
   ]
  },
  {
   "cell_type": "code",
   "execution_count": null,
   "metadata": {},
   "outputs": [],
   "source": []
  },
  {
   "cell_type": "code",
   "execution_count": 36,
   "metadata": {},
   "outputs": [],
   "source": [
    "#we save dataframe df_4 in our current working environment\n",
    "#as my_df_4.pkl \n",
    "#if we need them we reload them back (df= pd.read_pickle(\"my_df_b.pkl\")\n",
    "\n",
    "#df_4.to_pickle(\"my_df_4.pkl\")\n",
    "df_4.to_pickle(val_name_data_1_for_pickle)\n",
    "\n"
   ]
  },
  {
   "cell_type": "code",
   "execution_count": 37,
   "metadata": {},
   "outputs": [],
   "source": [
    "#we save dataframe df_c in our current working environment\n",
    "#as my_df_b.pkl \n",
    "#if we need them we reload them back (df= pd.read_pickle(\"my_df_b.pkl\")\n",
    "\n",
    "#df_b.to_pickle(\"my_df_b.pkl\")\n",
    "df_c.to_pickle(val_name_data_2_for_pickle)\n"
   ]
  },
  {
   "cell_type": "code",
   "execution_count": null,
   "metadata": {},
   "outputs": [],
   "source": []
  },
  {
   "cell_type": "code",
   "execution_count": null,
   "metadata": {},
   "outputs": [],
   "source": []
  },
  {
   "cell_type": "code",
   "execution_count": null,
   "metadata": {},
   "outputs": [],
   "source": []
  },
  {
   "cell_type": "code",
   "execution_count": null,
   "metadata": {},
   "outputs": [],
   "source": []
  },
  {
   "cell_type": "code",
   "execution_count": null,
   "metadata": {},
   "outputs": [],
   "source": []
  },
  {
   "cell_type": "code",
   "execution_count": null,
   "metadata": {},
   "outputs": [],
   "source": []
  },
  {
   "cell_type": "code",
   "execution_count": null,
   "metadata": {},
   "outputs": [],
   "source": []
  },
  {
   "cell_type": "code",
   "execution_count": null,
   "metadata": {},
   "outputs": [],
   "source": []
  }
 ],
 "metadata": {
  "kernelspec": {
   "display_name": "Python 3 (ipykernel)",
   "language": "python",
   "name": "python3"
  },
  "language_info": {
   "codemirror_mode": {
    "name": "ipython",
    "version": 3
   },
   "file_extension": ".py",
   "mimetype": "text/x-python",
   "name": "python",
   "nbconvert_exporter": "python",
   "pygments_lexer": "ipython3",
   "version": "3.11.4"
  }
 },
 "nbformat": 4,
 "nbformat_minor": 4
}
